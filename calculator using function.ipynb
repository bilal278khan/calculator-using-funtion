{
 "cells": [
  {
   "cell_type": "code",
   "execution_count": 1,
   "metadata": {},
   "outputs": [
    {
     "name": "stdout",
     "output_type": "stream",
     "text": [
      "5\n",
      "4\n",
      "the addition will be  9\n",
      "the subtraction will be  1\n",
      "the multiplication will be  20\n",
      "the division will be  1.25\n",
      "the remainder will be  1\n"
     ]
    }
   ],
   "source": [
    "a = int(input())\n",
    "b = int(input())\n",
    "def addition(num1,num2):\n",
    "  ans = num1+num2\n",
    "  print(\"the addition will be \",ans)\n",
    "addition(a,b)\n",
    "def subtraction(num1,num2):\n",
    "  ans = num1 - num2 \n",
    "  print(\"the subtraction will be \",ans)\n",
    "subtraction(a,b)\n",
    "def multiplication(num1,num2):\n",
    "  ans = num1*num2\n",
    "  print(\"the multiplication will be \",ans)\n",
    "multiplication(a,b)\n",
    "def division(num1,num2):\n",
    "  ans = num1/num2\n",
    "  print(\"the division will be \",ans)\n",
    "division(a,b)\n",
    "def remainder(num1,num2):\n",
    "  ans = num1%num2\n",
    "  print(\"the remainder will be \",ans)\n",
    "remainder(a,b)"
   ]
  },
  {
   "cell_type": "code",
   "execution_count": null,
   "metadata": {},
   "outputs": [],
   "source": []
  }
 ],
 "metadata": {
  "kernelspec": {
   "display_name": "Python 3",
   "language": "python",
   "name": "python3"
  },
  "language_info": {
   "codemirror_mode": {
    "name": "ipython",
    "version": 3
   },
   "file_extension": ".py",
   "mimetype": "text/x-python",
   "name": "python",
   "nbconvert_exporter": "python",
   "pygments_lexer": "ipython3",
   "version": "3.7.3"
  }
 },
 "nbformat": 4,
 "nbformat_minor": 2
}
